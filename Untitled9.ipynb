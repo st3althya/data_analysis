{
 "cells": [
  {
   "cell_type": "code",
   "execution_count": 1,
   "metadata": {},
   "outputs": [
    {
     "name": "stdout",
     "output_type": "stream",
     "text": [
      "Collecting tableauserverclient\n",
      "  Downloading tableauserverclient-0.11-py2.py3-none-any.whl (83 kB)\n",
      "Collecting urllib3<2.0,>=1.24.3\n",
      "  Downloading urllib3-1.25.9-py2.py3-none-any.whl (126 kB)\n",
      "Requirement already satisfied: requests<3.0,>=2.11 in c:\\users\\andrey-kuz\\appdata\\local\\continuum\\anaconda3\\lib\\site-packages (from tableauserverclient) (2.21.0)\n",
      "Requirement already satisfied: idna<2.9,>=2.5 in c:\\users\\andrey-kuz\\appdata\\local\\continuum\\anaconda3\\lib\\site-packages (from requests<3.0,>=2.11->tableauserverclient) (2.8)\n",
      "Requirement already satisfied: chardet<3.1.0,>=3.0.2 in c:\\users\\andrey-kuz\\appdata\\local\\continuum\\anaconda3\\lib\\site-packages (from requests<3.0,>=2.11->tableauserverclient) (3.0.4)\n",
      "Requirement already satisfied: certifi>=2017.4.17 in c:\\users\\andrey-kuz\\appdata\\local\\continuum\\anaconda3\\lib\\site-packages (from requests<3.0,>=2.11->tableauserverclient) (2020.4.5.1)\n",
      "Installing collected packages: urllib3, tableauserverclient\n",
      "  Attempting uninstall: urllib3\n",
      "    Found existing installation: urllib3 1.24.1\n",
      "    Uninstalling urllib3-1.24.1:\n",
      "      Successfully uninstalled urllib3-1.24.1\n",
      "Successfully installed tableauserverclient-0.11 urllib3-1.25.9\n",
      "Note: you may need to restart the kernel to use updated packages.\n"
     ]
    },
    {
     "name": "stderr",
     "output_type": "stream",
     "text": [
      "ERROR: requests 2.21.0 has requirement urllib3<1.25,>=1.21.1, but you'll have urllib3 1.25.9 which is incompatible.\n"
     ]
    }
   ],
   "source": [
    "pip install tableauserverclient"
   ]
  },
  {
   "cell_type": "code",
   "execution_count": null,
   "metadata": {},
   "outputs": [],
   "source": [
    "pip uninstall urllib3"
   ]
  },
  {
   "cell_type": "code",
   "execution_count": 1,
   "metadata": {},
   "outputs": [
    {
     "name": "stdout",
     "output_type": "stream",
     "text": [
      "Note: you may need to restart the kernel to use updated packages.\n"
     ]
    },
    {
     "name": "stderr",
     "output_type": "stream",
     "text": [
      "The system cannot find the file specified.\n"
     ]
    }
   ],
   "source": [
    "pip install 'urllib3<1.25,>=1.21.1' --force-reinstall"
   ]
  },
  {
   "cell_type": "code",
   "execution_count": 2,
   "metadata": {},
   "outputs": [],
   "source": [
    "import urllib3"
   ]
  },
  {
   "cell_type": "code",
   "execution_count": 11,
   "metadata": {},
   "outputs": [
    {
     "name": "stdout",
     "output_type": "stream",
     "text": [
      "\n",
      "There are 36 datasources on site: \n",
      "['dryukalex_CQI (analyst.dryukalex_CQI) (ritchie)', 'agg_management_reporting (all scales)', 'Model (main_cube)', 'Views by wb+user info', 'ssas.taxi.yandex-team.ru:2380', 'for marat', 'Start page - Users (no filter)', 'actual', 'gp_parks_economy_agg_w (analyst.gp_parks_economy_agg_w) (ritchie)', 'voditeli_1_5_months', 'agg_parks_geo', 'Tableau_staff_users', 'Лист1 (Города Drivers Uber)', 'Workbook - datasource reference', 'Start page - Users', 'Background tasks', 'Workbook permissions', 'Workbook - datasource - SQL', 'Select View', 'dim_geo_hierarchy_permission', 'Start page  - Workbooks', 'tableau_announces', 'Project permissions', 'agg_management_reporting_daily', 'tableau_desktop_users', 'Workbook - fields', 'v_dim_person_with_department_hierarchy', 'Tableau Historical Events', 'Workbook - shedule', 'Tableau Historical Events (weight_user)', 'View stats', 'Citimobile_cities_for_balance', 'agg_management_reporting_weekly', 'Workbook - datasource - field', 'business_models_balance_metrics (multiple tables)', 'Datasource - Query']\n",
      "['Regional', 'Superstore', 'Simple Example', 'PSAT', 'Plan/Fact', 'OM weekly', 'Sochi', 'Distribution of trips by cost', 'Retention (Second life) new v', 'Personal subvention', 'OM Graph', 'Support Dashboard', 'Эффективность КЦ Волгоград', 'Drivers Plan&Fact', 'Blocked drivers history', 'Paid_Hiring_3.0 (+Воронка)', 'Tableau User Activity', 'Tableau Desktop Reporting', 'Book2', 'Global Taxi market competitors', 'Book2_test', 'taxi_data', 'Start page', 'CQI', 'taxi_data_test', 'smb test', 'Street Cameras Taxi Branding Control', 'New drivers from parks', 'DKK high classes', 'MKK', ' Photocontrol FPR/FNR', 'Классификатор', 'Поездки по году выпуска авто', 'Почасовое', 'Точность асессоров фотоконтроля', ' Частота отмен', 'Mystery shopper employees', 'Mystery_shopper_new', 'Mystery_shopper', 'Rating dashboard', 'Rehabilitation dashboard', 'AB_scouts_monitoring', 'New Drivers in Parks', '1. Region profile', 'Reposition Efficiency Params', 'Reposition Experiment', 'Geobooking', 'Deaf drivers dashboard', 'DSAT', 'Loyalty program', 'Доходимость в платных каналах', 'Сводник по закускам', '2. Leaderboard', '3. Custom report', '7. Business overview', 'Geo Hierarchy', 'Drivers, Online medium', 'Female driver dashboard', 'Quality Control', 'Extracts refresh', 'FS_DASH', 'CRM_pushes_dash', 'Drivers Fact Report (over zendesk)', 'Drivers, Online Cost', 'Success to Offer', 'Photocontrol Experiment', 'Established Monitoring Photocontrol', 'Показатели качества', 'Driver card', 'Activity analysis 2', '1. Taxi Dashboard Template', 'YT Resource usage', 'Photocontrol International', 'Uber Report', 'ravaev_b2b_time_plan', 'ratio tariff', 'Precision/Performance', 'AB_cannibalization', '8. Incentives report', 'Persent $ in city v2.0', 'Dash_Lavka_Food', 'Drivers Fact', 'blender_wizard', 'lavka_food_dash_rioran', 'Garage Feedback', 'rio_lavka_onboarding_dash', 'ravaev_b2b_time_plan_gpp', 'Folders owners', 'Elderly driver dashboard', 'CQI Communications', 'Причины низких оценок', 'Полнота информации', 'Маяк:Воздействия', 'Acquisition Call Center projects', 'Фрод агентов/скаутов', 'Телеметрия', 'dashboard_v2', 'dashboard_v2_new', 'Драйв', '2. Example Dashboards (not template!)']\n"
     ]
    }
   ],
   "source": [
    "import tableauserverclient as TSC\n",
    "\n",
    "tableau_auth = TSC.TableauAuth('andrey-kuz', '', '')\n",
    "server = TSC.Server('https://tableau.taxi.yandex-team.ru')\n",
    "\n",
    "with server.auth.sign_in(tableau_auth):\n",
    "    all_datasources, pagination_item = server.datasources.get()\n",
    "    print(\"\\nThere are {} datasources on site: \".format(pagination_item.total_available))\n",
    "    print([datasource.name for datasource in all_datasources])\n",
    "\n",
    "with server.auth.sign_in(tableau_auth):\n",
    "  all_workbooks_items, pagination_item = server.workbooks.get()\n",
    "  # print names of first 100 workbooks\n",
    "  print([workbook.name for workbook in all_workbooks_items])"
   ]
  }
 ],
 "metadata": {
  "kernelspec": {
   "display_name": "Python 3",
   "language": "python",
   "name": "python3"
  },
  "language_info": {
   "codemirror_mode": {
    "name": "ipython",
    "version": 3
   },
   "file_extension": ".py",
   "mimetype": "text/x-python",
   "name": "python",
   "nbconvert_exporter": "python",
   "pygments_lexer": "ipython3",
   "version": "3.7.3"
  }
 },
 "nbformat": 4,
 "nbformat_minor": 2
}
